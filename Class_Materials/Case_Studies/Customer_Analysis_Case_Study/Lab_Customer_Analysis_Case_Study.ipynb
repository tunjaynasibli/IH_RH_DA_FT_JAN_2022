{
 "cells": [
  {
   "cell_type": "code",
   "execution_count": 13,
   "id": "8e783ebe",
   "metadata": {},
   "outputs": [],
   "source": [
    "import matplotlib.pyplot as plt\n",
    "import seaborn as sns\n",
    "%matplotlib inline\n",
    "import pandas as pd\n",
    "import numpy as np\n",
    "from sklearn.preprocessing import StandardScaler\n",
    "from sklearn.preprocessing import OneHotEncoder\n",
    "from sklearn.preprocessing import QuantileTransformer\n",
    "from sklearn.linear_model import LinearRegression\n",
    "from sklearn.model_selection import train_test_split\n",
    "from sklearn.preprocessing import PowerTransformer\n",
    "from sklearn.metrics import r2_score\n",
    "import statsmodels.api as sm\n",
    "from sklearn.metrics import mean_squared_error as mse\n",
    "from sklearn.metrics import mean_absolute_error as mae\n",
    "from scipy.stats import boxcox\n",
    "pd.options.display.max_rows = 50\n",
    "pd.options.display.max_columns = 999\n",
    "import warnings\n",
    "warnings.filterwarnings('ignore')"
   ]
  },
  {
   "cell_type": "markdown",
   "id": "1ffc2358",
   "metadata": {},
   "source": [
    "<b>  working with new csv file name Data_Marketing_Customer_Analysis_Round2.csv that has Response and Sales Channel"
   ]
  },
  {
   "cell_type": "code",
   "execution_count": null,
   "id": "92879498",
   "metadata": {},
   "outputs": [],
   "source": [
    "def load_original_data():\n",
    "    return pd.read_csv(\"Data/Data_Marketing_Customer_Analysis_Round2.csv\" )"
   ]
  },
  {
   "cell_type": "code",
   "execution_count": null,
   "id": "b52e274a",
   "metadata": {},
   "outputs": [],
   "source": [
    "def clean_data(df):\n",
    "    df.columns=[e.lower().replace(' ', '_') for e in df.columns]\n",
    "    df=df.drop(columns=['unnamed:_0', 'vehicle_type',\"customer\"])\n",
    "    df=df.dropna()\n",
    "    df['effective_to_date']=pd.to_datetime(df['effective_to_date'], errors='coerce')\n",
    "    df[\"month\"]=list(map(lambda date:date.strftime(format=\"%B\"),df[\"effective_to_date\"]))\n",
    "    # we drop effective_to_date column\n",
    "    df=df.drop(columns=['effective_to_date'])\n",
    "    ## removing duplicates\n",
    "    df=df.drop_duplicates()\n",
    "    return df"
   ]
  },
  {
   "cell_type": "code",
   "execution_count": null,
   "id": "4925f53d",
   "metadata": {},
   "outputs": [],
   "source": [
    "def transform(df):\n",
    "    df=df[df['income']>0]\n",
    "    df[\"total_claim_amount\"]=round(df[\"total_claim_amount\"],0)\n",
    "    df[\"customer_lifetime_value\"]=round(df[\"customer_lifetime_value\"],0)\n",
    "    df.vehicle_class[customers_df.vehicle_class.isin([\"Luxury Car\",\"Luxury SUV\"])] = \"Luxury Car\"\n",
    "    df.vehicle_class[customers_df.vehicle_class.isin([\"Four-Door Car\",\"SUV\"])] = \"Four-Door Car\"\n",
    "    df.policy[df.policy.isin([\"Personal L3\",\"Personal L2\",\"Personal L1\"]) ] = \"Personal\"\n",
    "    df.policy[df.policy.isin([\"Corporate L3\",\"Corporate L2\",\"Corporate L1\"]) ] = \"Corporate\"\n",
    "    df.policy[df.policy.isin([\"Special L3\",\"Special L2\",\"Special L1\"]) ] = \"Special\"\n",
    "    df=df.drop(columns=[\"month\",\"education\"])\n",
    "    df.number_of_policies[df.number_of_policies>2]=3\n",
    "    return df"
   ]
  },
  {
   "cell_type": "code",
   "execution_count": null,
   "id": "c0375757",
   "metadata": {},
   "outputs": [],
   "source": [
    "customers_df=load_original_data()\n",
    "customers_df=clean_data(customers_df)\n",
    "customers_df=transform(customers_df)"
   ]
  },
  {
   "cell_type": "code",
   "execution_count": null,
   "id": "9ada8386",
   "metadata": {},
   "outputs": [],
   "source": [
    "customers_df.shape"
   ]
  },
  {
   "cell_type": "code",
   "execution_count": null,
   "id": "be491b5d",
   "metadata": {},
   "outputs": [],
   "source": [
    "customers_df.columns"
   ]
  },
  {
   "cell_type": "markdown",
   "id": "ba56624d",
   "metadata": {},
   "source": [
    "# Plotting"
   ]
  },
  {
   "cell_type": "markdown",
   "id": "55acbbb6",
   "metadata": {},
   "source": [
    "EDA Catgorical Columns "
   ]
  },
  {
   "cell_type": "code",
   "execution_count": 3,
   "id": "1cabfa27",
   "metadata": {
    "scrolled": true
   },
   "outputs": [
    {
     "ename": "NameError",
     "evalue": "name 'customers_df' is not defined",
     "output_type": "error",
     "traceback": [
      "\u001b[0;31m---------------------------------------------------------------------------\u001b[0m",
      "\u001b[0;31mNameError\u001b[0m                                 Traceback (most recent call last)",
      "\u001b[0;32m/var/folders/xw/scy5flt94d56tjrc4x62mjrc0000gn/T/ipykernel_14393/3705201174.py\u001b[0m in \u001b[0;36m<module>\u001b[0;34m\u001b[0m\n\u001b[0;32m----> 1\u001b[0;31m \u001b[0;32mfor\u001b[0m \u001b[0mc\u001b[0m \u001b[0;32min\u001b[0m \u001b[0mcustomers_df\u001b[0m\u001b[0;34m.\u001b[0m\u001b[0mselect_dtypes\u001b[0m\u001b[0;34m(\u001b[0m\u001b[0mobject\u001b[0m\u001b[0;34m)\u001b[0m\u001b[0;34m:\u001b[0m\u001b[0;34m\u001b[0m\u001b[0;34m\u001b[0m\u001b[0m\n\u001b[0m\u001b[1;32m      2\u001b[0m     \u001b[0mplt\u001b[0m\u001b[0;34m.\u001b[0m\u001b[0mfigure\u001b[0m\u001b[0;34m(\u001b[0m\u001b[0mfigsize\u001b[0m\u001b[0;34m=\u001b[0m\u001b[0;34m(\u001b[0m\u001b[0;36m10\u001b[0m\u001b[0;34m,\u001b[0m\u001b[0;36m5\u001b[0m\u001b[0;34m)\u001b[0m\u001b[0;34m)\u001b[0m\u001b[0;34m\u001b[0m\u001b[0;34m\u001b[0m\u001b[0m\n\u001b[1;32m      3\u001b[0m     \u001b[0mplt\u001b[0m\u001b[0;34m.\u001b[0m\u001b[0mbar\u001b[0m\u001b[0;34m(\u001b[0m\u001b[0mcustomers_df\u001b[0m\u001b[0;34m[\u001b[0m\u001b[0mc\u001b[0m\u001b[0;34m]\u001b[0m\u001b[0;34m.\u001b[0m\u001b[0munique\u001b[0m\u001b[0;34m(\u001b[0m\u001b[0;34m)\u001b[0m\u001b[0;34m,\u001b[0m \u001b[0mcustomers_df\u001b[0m\u001b[0;34m[\u001b[0m\u001b[0mc\u001b[0m\u001b[0;34m]\u001b[0m\u001b[0;34m.\u001b[0m\u001b[0mvalue_counts\u001b[0m\u001b[0;34m(\u001b[0m\u001b[0;34m)\u001b[0m\u001b[0;34m)\u001b[0m\u001b[0;34m\u001b[0m\u001b[0;34m\u001b[0m\u001b[0m\n\u001b[1;32m      4\u001b[0m     \u001b[0mplt\u001b[0m\u001b[0;34m.\u001b[0m\u001b[0mtitle\u001b[0m\u001b[0;34m(\u001b[0m\u001b[0mc\u001b[0m\u001b[0;34m)\u001b[0m\u001b[0;34m\u001b[0m\u001b[0;34m\u001b[0m\u001b[0m\n\u001b[1;32m      5\u001b[0m     \u001b[0mplt\u001b[0m\u001b[0;34m.\u001b[0m\u001b[0mshow\u001b[0m\u001b[0;34m(\u001b[0m\u001b[0;34m)\u001b[0m\u001b[0;34m;\u001b[0m\u001b[0;34m\u001b[0m\u001b[0;34m\u001b[0m\u001b[0m\n",
      "\u001b[0;31mNameError\u001b[0m: name 'customers_df' is not defined"
     ]
    }
   ],
   "source": [
    "for c in customers_df.select_dtypes(object):\n",
    "    plt.figure(figsize=(10,5))\n",
    "    plt.bar(customers_df[c].unique(), customers_df[c].value_counts())\n",
    "    plt.title(c)\n",
    "    plt.show();"
   ]
  },
  {
   "cell_type": "markdown",
   "id": "dcc566f6",
   "metadata": {},
   "source": [
    "### Removing outliers"
   ]
  },
  {
   "cell_type": "markdown",
   "id": "9cb4e0f2",
   "metadata": {},
   "source": [
    "<b> customer life time value"
   ]
  },
  {
   "cell_type": "code",
   "execution_count": null,
   "id": "17aa1a28",
   "metadata": {},
   "outputs": [],
   "source": [
    "sns.boxplot(customers_df.customer_lifetime_value)"
   ]
  },
  {
   "cell_type": "code",
   "execution_count": null,
   "id": "b61919bf",
   "metadata": {},
   "outputs": [],
   "source": [
    "Q1 = customers_df.customer_lifetime_value.quantile(0.25)\n",
    "Q3 = customers_df.customer_lifetime_value.quantile(0.75)\n",
    "IQR = Q3 - Q1    #IQR is interquartile range."
   ]
  },
  {
   "cell_type": "code",
   "execution_count": null,
   "id": "c240d366",
   "metadata": {},
   "outputs": [],
   "source": [
    "filter = (customers_df[\"customer_lifetime_value\"] >= Q1 - 1.5 * IQR) & (customers_df[\"customer_lifetime_value\"] <= Q3 + 1.5 *IQR)\n",
    "customers_df=customers_df.loc[filter] "
   ]
  },
  {
   "cell_type": "code",
   "execution_count": null,
   "id": "9d917c99",
   "metadata": {},
   "outputs": [],
   "source": [
    "customers_df.customer_lifetime_value.hist()"
   ]
  },
  {
   "cell_type": "markdown",
   "id": "77b16a99",
   "metadata": {},
   "source": [
    "<b> Monthly Premium Auto"
   ]
  },
  {
   "cell_type": "code",
   "execution_count": null,
   "id": "c14e7ebb",
   "metadata": {},
   "outputs": [],
   "source": [
    "sns.boxplot(customers_df.monthly_premium_auto)"
   ]
  },
  {
   "cell_type": "code",
   "execution_count": null,
   "id": "41ffec06",
   "metadata": {},
   "outputs": [],
   "source": [
    "Q1 = customers_df.monthly_premium_auto.quantile(0.25)\n",
    "Q3 = customers_df.monthly_premium_auto.quantile(0.75)\n",
    "IQR = Q3 - Q1    #IQR is interquartile range."
   ]
  },
  {
   "cell_type": "code",
   "execution_count": null,
   "id": "ace56d34",
   "metadata": {},
   "outputs": [],
   "source": [
    "IQR"
   ]
  },
  {
   "cell_type": "code",
   "execution_count": null,
   "id": "02c1db2b",
   "metadata": {},
   "outputs": [],
   "source": [
    "filter = (customers_df[\"monthly_premium_auto\"] >= Q1 - 1.5 * IQR) & (customers_df[\"monthly_premium_auto\"] <= Q3 + 1.5 *IQR)\n",
    "customers_df=customers_df.loc[filter]"
   ]
  },
  {
   "cell_type": "code",
   "execution_count": null,
   "id": "1bb92a85",
   "metadata": {},
   "outputs": [],
   "source": [
    "customers_df"
   ]
  },
  {
   "cell_type": "markdown",
   "id": "1dbb7a42",
   "metadata": {},
   "source": [
    "### Show a plot of the response rate by the sales channel."
   ]
  },
  {
   "cell_type": "code",
   "execution_count": null,
   "id": "2a84c8bd",
   "metadata": {},
   "outputs": [],
   "source": [
    "plt.figure(figsize=(8,4))\n",
    "sns.countplot('response', hue='sales_channel', data=customers_df)\n",
    "plt.ylabel('Response by Sales Channel')\n",
    "plt.show()\n"
   ]
  },
  {
   "cell_type": "markdown",
   "id": "e6730314",
   "metadata": {},
   "source": [
    "### Show a plot of the response rate by the total claim amount.\n"
   ]
  },
  {
   "cell_type": "code",
   "execution_count": null,
   "id": "6afc0fe4",
   "metadata": {},
   "outputs": [],
   "source": [
    "plt.figure(figsize=(12,6))\n",
    "sns.boxplot(y='total_claim_amount' , x='response', data=customers_df)\n",
    "plt.ylabel('Response by Total Claim Amount')\n",
    "plt.show()\n"
   ]
  },
  {
   "cell_type": "markdown",
   "id": "141183a8",
   "metadata": {},
   "source": [
    "### Show a plot of the response rate by income.\n"
   ]
  },
  {
   "cell_type": "code",
   "execution_count": null,
   "id": "e9444f56",
   "metadata": {},
   "outputs": [],
   "source": [
    "plt.figure(figsize=(12,6))\n",
    "sns.boxplot(y='income' , x='response', data=customers_df)\n",
    "plt.ylabel('Response by Income')\n",
    "plt.show()"
   ]
  },
  {
   "cell_type": "markdown",
   "id": "9c7c49c5",
   "metadata": {},
   "source": [
    "# Data Transformation Lab"
   ]
  },
  {
   "cell_type": "markdown",
   "id": "751dd9b3",
   "metadata": {},
   "source": [
    "#### Check normality visually."
   ]
  },
  {
   "cell_type": "code",
   "execution_count": null,
   "id": "00f3100d",
   "metadata": {},
   "outputs": [],
   "source": [
    "sns.pairplot(customers_df)\n",
    "plt.show()"
   ]
  },
  {
   "cell_type": "code",
   "execution_count": 4,
   "id": "b4d10066",
   "metadata": {},
   "outputs": [
    {
     "ename": "NameError",
     "evalue": "name 'sns' is not defined",
     "output_type": "error",
     "traceback": [
      "\u001b[0;31m---------------------------------------------------------------------------\u001b[0m",
      "\u001b[0;31mNameError\u001b[0m                                 Traceback (most recent call last)",
      "\u001b[0;32m/var/folders/xw/scy5flt94d56tjrc4x62mjrc0000gn/T/ipykernel_14393/2924520290.py\u001b[0m in \u001b[0;36m<module>\u001b[0;34m\u001b[0m\n\u001b[0;32m----> 1\u001b[0;31m \u001b[0msns\u001b[0m\u001b[0;34m.\u001b[0m\u001b[0mdistplot\u001b[0m\u001b[0;34m(\u001b[0m\u001b[0;34m(\u001b[0m\u001b[0mcustomers_df\u001b[0m\u001b[0;34m[\u001b[0m\u001b[0;34m'customer_lifetime_value'\u001b[0m\u001b[0;34m]\u001b[0m\u001b[0;34m)\u001b[0m\u001b[0;34m,\u001b[0m \u001b[0mbins\u001b[0m\u001b[0;34m=\u001b[0m\u001b[0;36m20\u001b[0m\u001b[0;34m)\u001b[0m\u001b[0;34m\u001b[0m\u001b[0;34m\u001b[0m\u001b[0m\n\u001b[0m",
      "\u001b[0;31mNameError\u001b[0m: name 'sns' is not defined"
     ]
    }
   ],
   "source": [
    "sns.distplot((customers_df['customer_lifetime_value']), bins=20)"
   ]
  },
  {
   "cell_type": "code",
   "execution_count": null,
   "id": "5e55939c",
   "metadata": {},
   "outputs": [],
   "source": [
    "customer_lifetime_value_transformed=boxcox(customers_df['customer_lifetime_value'],lmbda=-0.04)"
   ]
  },
  {
   "cell_type": "code",
   "execution_count": null,
   "id": "d457f803",
   "metadata": {},
   "outputs": [],
   "source": [
    "sns.histplot(customer_lifetime_value_transformed)"
   ]
  },
  {
   "cell_type": "code",
   "execution_count": null,
   "id": "7de11728",
   "metadata": {},
   "outputs": [],
   "source": [
    "sns.distplot((customers_df['monthly_premium_auto']), bins=20)"
   ]
  },
  {
   "cell_type": "code",
   "execution_count": null,
   "id": "f3e46d72",
   "metadata": {},
   "outputs": [],
   "source": [
    "pt = PowerTransformer()\n",
    "monthly_premium_auto_transformed=pt.fit_transform(customers_df['monthly_premium_auto'].to_numpy().reshape(-1,1))\n",
    "sns.displot(monthly_premium_auto_transformed)"
   ]
  },
  {
   "cell_type": "code",
   "execution_count": null,
   "id": "d7c2d6a0",
   "metadata": {},
   "outputs": [],
   "source": [
    "monthly_premium_auto_transformed,lam=boxcox(customers_df['monthly_premium_auto'])\n",
    "sns.histplot(monthly_premium_auto_transformed)"
   ]
  },
  {
   "cell_type": "code",
   "execution_count": null,
   "id": "e90d1a7e",
   "metadata": {},
   "outputs": [],
   "source": [
    "sns.regplot(x='monthly_premium_auto',y='total_claim_amount', data=customers_df, scatter_kws={\"color\": \"olive\"}, line_kws={\"color\": \"black\"})"
   ]
  },
  {
   "cell_type": "markdown",
   "id": "980b118f",
   "metadata": {},
   "source": [
    "#### Checking Multicorrelinilaty"
   ]
  },
  {
   "cell_type": "code",
   "execution_count": 5,
   "id": "154056c9",
   "metadata": {},
   "outputs": [
    {
     "ename": "NameError",
     "evalue": "name 'customers_df' is not defined",
     "output_type": "error",
     "traceback": [
      "\u001b[0;31m---------------------------------------------------------------------------\u001b[0m",
      "\u001b[0;31mNameError\u001b[0m                                 Traceback (most recent call last)",
      "\u001b[0;32m/var/folders/xw/scy5flt94d56tjrc4x62mjrc0000gn/T/ipykernel_14393/781179292.py\u001b[0m in \u001b[0;36m<module>\u001b[0;34m\u001b[0m\n\u001b[0;32m----> 1\u001b[0;31m \u001b[0mnumericals_features\u001b[0m\u001b[0;34m=\u001b[0m\u001b[0mcustomers_df\u001b[0m\u001b[0;34m.\u001b[0m\u001b[0m_get_numeric_data\u001b[0m\u001b[0;34m(\u001b[0m\u001b[0;34m)\u001b[0m\u001b[0;34m\u001b[0m\u001b[0;34m\u001b[0m\u001b[0m\n\u001b[0m\u001b[1;32m      2\u001b[0m \u001b[0mcorrelations\u001b[0m \u001b[0;34m=\u001b[0m \u001b[0mnumericals_features\u001b[0m\u001b[0;34m.\u001b[0m\u001b[0mcorr\u001b[0m\u001b[0;34m(\u001b[0m\u001b[0;34m)\u001b[0m\u001b[0;34m\u001b[0m\u001b[0;34m\u001b[0m\u001b[0m\n\u001b[1;32m      3\u001b[0m \u001b[0mcorrelations\u001b[0m\u001b[0;34m\u001b[0m\u001b[0;34m\u001b[0m\u001b[0m\n",
      "\u001b[0;31mNameError\u001b[0m: name 'customers_df' is not defined"
     ]
    }
   ],
   "source": [
    "numericals_features=customers_df._get_numeric_data()\n",
    "correlations = numericals_features.corr()\n",
    "correlations"
   ]
  },
  {
   "cell_type": "code",
   "execution_count": null,
   "id": "5389538f",
   "metadata": {},
   "outputs": [],
   "source": [
    "cmap = sns.cm.rocket_r  ## for reversing the colors\n",
    "mask=np.zeros_like(numericals_features.corr())\n",
    "mask[np.triu_indices_from(mask)]=True\n",
    "fig, ax=plt.subplots(figsize=(10, 8))\n",
    "ax=sns.heatmap(numericals_features.corr(), mask=mask, annot=True,cmap=cmap)\n",
    "plt.show()"
   ]
  },
  {
   "cell_type": "markdown",
   "id": "2b1908dd",
   "metadata": {},
   "source": [
    "X-Y split  \n",
    "splitting the target variable from the dependent variables"
   ]
  },
  {
   "cell_type": "code",
   "execution_count": null,
   "id": "bd7295a6",
   "metadata": {},
   "outputs": [],
   "source": [
    "X=customers_df.drop('total_claim_amount', axis=1)\n",
    "y=customers_df.total_claim_amount"
   ]
  },
  {
   "cell_type": "code",
   "execution_count": 6,
   "id": "eaf38f9d",
   "metadata": {},
   "outputs": [
    {
     "ename": "NameError",
     "evalue": "name 'X' is not defined",
     "output_type": "error",
     "traceback": [
      "\u001b[0;31m---------------------------------------------------------------------------\u001b[0m",
      "\u001b[0;31mNameError\u001b[0m                                 Traceback (most recent call last)",
      "\u001b[0;32m/var/folders/xw/scy5flt94d56tjrc4x62mjrc0000gn/T/ipykernel_14393/3777217377.py\u001b[0m in \u001b[0;36m<module>\u001b[0;34m\u001b[0m\n\u001b[0;32m----> 1\u001b[0;31m \u001b[0mX\u001b[0m\u001b[0;34m\u001b[0m\u001b[0;34m\u001b[0m\u001b[0m\n\u001b[0m",
      "\u001b[0;31mNameError\u001b[0m: name 'X' is not defined"
     ]
    }
   ],
   "source": [
    "X"
   ]
  },
  {
   "cell_type": "markdown",
   "id": "b3692a35",
   "metadata": {},
   "source": [
    "Get the numeric data."
   ]
  },
  {
   "cell_type": "code",
   "execution_count": null,
   "id": "0362e558",
   "metadata": {},
   "outputs": [],
   "source": [
    "numericals_features =X._get_numeric_data()\n",
    "# numericals =data.select_dtypes(np.number)\n",
    "numericals_features.head()"
   ]
  },
  {
   "cell_type": "code",
   "execution_count": null,
   "id": "629f52b3",
   "metadata": {},
   "outputs": [],
   "source": [
    "numericals_features.describe()"
   ]
  },
  {
   "cell_type": "markdown",
   "id": "368ad2bc",
   "metadata": {},
   "source": [
    "Get Categorical data"
   ]
  },
  {
   "cell_type": "code",
   "execution_count": null,
   "id": "170872ef",
   "metadata": {},
   "outputs": [],
   "source": [
    "categoricals_features = X.select_dtypes(object)\n",
    "categoricals_features.head()"
   ]
  },
  {
   "cell_type": "markdown",
   "id": "8aae9a44",
   "metadata": {},
   "source": [
    "### Categorical Variables Transformation"
   ]
  },
  {
   "cell_type": "markdown",
   "id": "97d63006",
   "metadata": {},
   "source": [
    "One Hot Encoding"
   ]
  },
  {
   "cell_type": "code",
   "execution_count": null,
   "id": "b016f549",
   "metadata": {},
   "outputs": [],
   "source": [
    "# get dummies pandas\n",
    "categoricals_features=pd.get_dummies(categoricals_features, drop_first=True)\n",
    "##pd.DataFrame(OneHotEncoder(drop='first').fit_transform(categoricals_features).toarray(),\n",
    "## columns=OneHotEncoder(drop='first').fit(categoricals_features).get_feature_names(input_features=categoricals_features.columns)).head()"
   ]
  },
  {
   "cell_type": "code",
   "execution_count": null,
   "id": "331fa624",
   "metadata": {},
   "outputs": [],
   "source": [
    "categoricals_features"
   ]
  },
  {
   "cell_type": "code",
   "execution_count": null,
   "id": "ecad7abb",
   "metadata": {},
   "outputs": [],
   "source": [
    "all_features=pd.concat([numericals_features, categoricals_features], axis=1) # concat numerical and categorical transformations\n",
    "all_features.head()"
   ]
  },
  {
   "cell_type": "code",
   "execution_count": null,
   "id": "fed776a2",
   "metadata": {},
   "outputs": [],
   "source": []
  },
  {
   "cell_type": "markdown",
   "id": "427941a4",
   "metadata": {},
   "source": [
    "### Train Test Split"
   ]
  },
  {
   "cell_type": "code",
   "execution_count": null,
   "id": "3cd19ad7",
   "metadata": {},
   "outputs": [],
   "source": [
    "all_features=significant_features"
   ]
  },
  {
   "cell_type": "code",
   "execution_count": null,
   "id": "3ac5d1eb",
   "metadata": {},
   "outputs": [],
   "source": [
    "X_train, X_test, y_train, y_test=train_test_split(all_features, y, test_size=.20)"
   ]
  },
  {
   "cell_type": "code",
   "execution_count": null,
   "id": "9ef267b2",
   "metadata": {},
   "outputs": [],
   "source": [
    "X_train"
   ]
  },
  {
   "cell_type": "markdown",
   "id": "3b45ef96",
   "metadata": {},
   "source": [
    "#### Standardize"
   ]
  },
  {
   "cell_type": "code",
   "execution_count": null,
   "id": "0a38339b",
   "metadata": {},
   "outputs": [],
   "source": [
    "std_scaler=StandardScaler().fit(X_train) \n",
    "\n",
    "X_train_scaled=std_scaler.transform(X_train)"
   ]
  },
  {
   "cell_type": "code",
   "execution_count": null,
   "id": "f8b3522e",
   "metadata": {},
   "outputs": [],
   "source": [
    "X_test_scaled=std_scaler.transform(X_test)"
   ]
  },
  {
   "cell_type": "code",
   "execution_count": 7,
   "id": "041efe2f",
   "metadata": {},
   "outputs": [
    {
     "ename": "NameError",
     "evalue": "name 'X_train_scaled' is not defined",
     "output_type": "error",
     "traceback": [
      "\u001b[0;31m---------------------------------------------------------------------------\u001b[0m",
      "\u001b[0;31mNameError\u001b[0m                                 Traceback (most recent call last)",
      "\u001b[0;32m/var/folders/xw/scy5flt94d56tjrc4x62mjrc0000gn/T/ipykernel_14393/3697718832.py\u001b[0m in \u001b[0;36m<module>\u001b[0;34m\u001b[0m\n\u001b[0;32m----> 1\u001b[0;31m \u001b[0mX_train_scaled\u001b[0m\u001b[0;34m[\u001b[0m\u001b[0;36m0\u001b[0m\u001b[0;34m]\u001b[0m\u001b[0;34m\u001b[0m\u001b[0;34m\u001b[0m\u001b[0m\n\u001b[0m",
      "\u001b[0;31mNameError\u001b[0m: name 'X_train_scaled' is not defined"
     ]
    }
   ],
   "source": [
    "X_train_scaled[0]"
   ]
  },
  {
   "cell_type": "markdown",
   "id": "d3b24efc",
   "metadata": {},
   "source": [
    "### Modeling using Statsmodels"
   ]
  },
  {
   "cell_type": "markdown",
   "id": "019bd4a8",
   "metadata": {},
   "source": [
    "<b>without scaling"
   ]
  },
  {
   "cell_type": "code",
   "execution_count": null,
   "id": "ee029538",
   "metadata": {},
   "outputs": [],
   "source": [
    "X_train_const= sm.add_constant(X_train) # adding a constant\n",
    "\n",
    "model = sm.OLS(y_train, X_train_const).fit()\n",
    "predictions_train = model.predict(X_train_const) \n",
    "\n",
    "X_test_const = sm.add_constant(X_test) # adding a constant\n",
    "predictions_test = model.predict(X_test_const) \n",
    "print_model = model.summary()\n",
    "print(print_model)"
   ]
  },
  {
   "cell_type": "markdown",
   "id": "aa6ba575",
   "metadata": {},
   "source": [
    "### checking the significant variables"
   ]
  },
  {
   "cell_type": "code",
   "execution_count": null,
   "id": "c04a327b",
   "metadata": {},
   "outputs": [],
   "source": [
    "model.params[list(np.where(model.pvalues < 0.05)[0])].iloc[1:].index.tolist()"
   ]
  },
  {
   "cell_type": "code",
   "execution_count": null,
   "id": "44c38086",
   "metadata": {},
   "outputs": [],
   "source": [
    "significant_features=all_features[model.params[list(np.where(model.pvalues < 0.05)[0])].iloc[1:].index.tolist()]"
   ]
  },
  {
   "cell_type": "markdown",
   "id": "46ad8fdd",
   "metadata": {},
   "source": [
    "<b> with scaling"
   ]
  },
  {
   "cell_type": "code",
   "execution_count": null,
   "id": "a7ef7400",
   "metadata": {},
   "outputs": [],
   "source": [
    "X_train.columns"
   ]
  },
  {
   "cell_type": "code",
   "execution_count": null,
   "id": "d0d1b153",
   "metadata": {},
   "outputs": [],
   "source": [
    "X_train_const_scaled = sm.add_constant(X_train_scaled) # adding a constant\n",
    "\n",
    "model = sm.OLS(y_train, X_train_const_scaled).fit()\n",
    "predictions_train = model.predict(X_train_const_scaled) \n",
    "\n",
    "X_test_const_scaled = sm.add_constant(X_test_scaled) # adding a constant\n",
    "predictions_test = model.predict(X_test_const_scaled) \n",
    "print_model = model.summary()\n",
    "print(print_model)"
   ]
  },
  {
   "cell_type": "markdown",
   "id": "9543ed19",
   "metadata": {},
   "source": [
    "### Apply Linear Regression"
   ]
  },
  {
   "cell_type": "code",
   "execution_count": null,
   "id": "0219e505",
   "metadata": {},
   "outputs": [],
   "source": [
    "model=LinearRegression()    # model\n",
    "model.fit(X_train_scaled, y_train)   # model train\n",
    "\n",
    "y\n",
    "y_pred=model.predict(X_test_scaled)   # model prediction\n",
    "\n",
    "\n",
    "y_pred_train=model.predict(X_train_scaled)"
   ]
  },
  {
   "cell_type": "code",
   "execution_count": null,
   "id": "be15a5fa",
   "metadata": {},
   "outputs": [],
   "source": [
    "# Make an scatter plot y_pred vs y\n",
    "# What kind of plot you will get if all the all the predictions are ok?\n",
    "# A stright line\n",
    "\n",
    "fig, ax = plt.subplots(2,3,figsize=(14,12))\n",
    "ax[0,0].plot(y_pred, y_test, 'o')\n",
    "ax[0,0].set_xlabel(\"y_test\")\n",
    "ax[0,0].set_ylabel(\"y_pred\")\n",
    "ax[0,0].set_title(\"Test Set -Predicted vs real\")\n",
    "\n",
    "# Get a histogram of the residuals ie: y - y_pred.  Homoscdasticity\n",
    "# It resembles a normal distribution?\n",
    "ax[0,1].hist(y_test - y_pred)\n",
    "ax[0,1].set_xlabel(\"Test y-y_pred\")\n",
    "ax[0,1].set_title(\"Test Set Residual histogram\")\n",
    "\n",
    "ax[0,2].plot(y_pred,y_test - y_pred,\"o\")\n",
    "ax[0,2].set_xlabel(\"predited\")\n",
    "ax[0,2].set_ylabel(\"residuals\")\n",
    "ax[0,2].set_title(\"Residuals by Predicted -- Test set\")\n",
    "ax[0,2].plot(y_pred,np.zeros(len(y_pred)),linestyle='dashed')\n",
    "\n",
    "\n",
    "ax[1,0].plot(y_pred_train, y_train, 'o')\n",
    "ax[1,0].set_xlabel(\"y_train\")\n",
    "ax[1,0].set_ylabel(\"y_pred_train\")\n",
    "ax[1,0].set_title(\"Train set Predicted vs real\")\n",
    "\n",
    "# Get a histogram of the residuals ie: y - y_pred.  Homoscdasticity\n",
    "# It resembles a normal distribution?\n",
    "ax[1,1].hist(y_train - y_pred_train)\n",
    "ax[1,1].set_xlabel(\"Train y-y_pred\")\n",
    "ax[1,1].set_title(\"Train Residual histogram\")\n",
    "\n",
    "ax[1,2].plot(y_pred_train,y_train - y_pred_train,\"o\")\n",
    "ax[1,2].set_xlabel(\"predited\")\n",
    "ax[1,2].set_ylabel(\"residuals\")\n",
    "ax[1,2].set_title(\"Residuals by Predicted -- Train set\")\n",
    "ax[1,2].plot(y_pred_train,np.zeros(len(y_pred_train)),linestyle='dashed')"
   ]
  },
  {
   "cell_type": "markdown",
   "id": "c4479059",
   "metadata": {},
   "source": [
    "#### Model Validation"
   ]
  },
  {
   "cell_type": "markdown",
   "id": "bafe7c05",
   "metadata": {},
   "source": [
    "MSE."
   ]
  },
  {
   "cell_type": "code",
   "execution_count": null,
   "id": "3bb8c75f",
   "metadata": {},
   "outputs": [],
   "source": [
    "train_mse=mse(y_train,y_pred_train)\n",
    "test_mse=mse(y_test,y_pred)\n",
    "\n",
    "print ('train MSE: {} -- test MSE: {}'.format(train_mse, test_mse))"
   ]
  },
  {
   "cell_type": "markdown",
   "id": "729985ba",
   "metadata": {},
   "source": [
    "RMSE."
   ]
  },
  {
   "cell_type": "code",
   "execution_count": null,
   "id": "57b76c49",
   "metadata": {},
   "outputs": [],
   "source": [
    "print ('train RMSE: {} -- test RMSE: {}'.format(train_mse**.5, test_mse**.5))"
   ]
  },
  {
   "cell_type": "markdown",
   "id": "c2b88886",
   "metadata": {},
   "source": [
    "MAE."
   ]
  },
  {
   "cell_type": "code",
   "execution_count": null,
   "id": "0aa2c76c",
   "metadata": {},
   "outputs": [],
   "source": [
    "train_mae=mae(y_train,y_pred_train)\n",
    "test_mae=mae(y_test,y_pred)\n",
    "\n",
    "print ('train MAE: {} -- test MAE: {}'.format(train_mse, test_mse))"
   ]
  },
  {
   "cell_type": "markdown",
   "id": "bc965fc7",
   "metadata": {},
   "source": [
    "R2."
   ]
  },
  {
   "cell_type": "code",
   "execution_count": null,
   "id": "c4a2b069",
   "metadata": {},
   "outputs": [],
   "source": [
    "#R2= model.score(X_test_scaled, y_test)\n",
    "R2_train=r2_score(y_train,y_pred_train)\n",
    "R2_test=r2_score(y_test,y_pred)\n",
    "\n",
    "print (R2_train)\n",
    "print(R2_test)"
   ]
  },
  {
   "cell_type": "code",
   "execution_count": null,
   "id": "f2924abe",
   "metadata": {},
   "outputs": [],
   "source": [
    "print ('train R2: {} -- test R2: {}'.format(model.score(X_train_scaled, y_train),\n",
    "                                            model.score(X_test_scaled, y_test)))"
   ]
  },
  {
   "cell_type": "markdown",
   "id": "dfbaf9a2",
   "metadata": {},
   "source": [
    "adjusted rsquare"
   ]
  },
  {
   "cell_type": "code",
   "execution_count": null,
   "id": "a986e0aa",
   "metadata": {},
   "outputs": [],
   "source": [
    "Adj_R2_train= 1 - (1-R2_train)*(len(y_train)-1)/(len(y_train)-X_train.shape[1]-1)\n",
    "Adj_R2_train"
   ]
  },
  {
   "cell_type": "code",
   "execution_count": null,
   "id": "c8945c6e",
   "metadata": {},
   "outputs": [],
   "source": [
    "Adj_R2_test= 1 - (1-R2_test)*(len(y_test)-1)/(len(y_test)-X_test.shape[1]-1)\n",
    "Adj_R2_test"
   ]
  },
  {
   "cell_type": "markdown",
   "id": "01b01203",
   "metadata": {},
   "source": [
    "#### Feature Importance"
   ]
  },
  {
   "cell_type": "code",
   "execution_count": null,
   "id": "89610a7c",
   "metadata": {
    "scrolled": true
   },
   "outputs": [],
   "source": [
    "features_importances = pd.DataFrame(data={\n",
    "    'Attribute': X_train.columns,\n",
    "    'Importance': abs(model.coef_)\n",
    "})\n",
    "features_importances = features_importances.sort_values(by='Importance', ascending=False)"
   ]
  },
  {
   "cell_type": "code",
   "execution_count": null,
   "id": "753e2d74",
   "metadata": {},
   "outputs": [],
   "source": [
    "## decide on each variable importance on your model using adjusted R_squared "
   ]
  },
  {
   "cell_type": "code",
   "execution_count": null,
   "id": "c2809a7b",
   "metadata": {},
   "outputs": [],
   "source": [
    "features_importances"
   ]
  },
  {
   "cell_type": "code",
   "execution_count": null,
   "id": "dbeceb73",
   "metadata": {},
   "outputs": [],
   "source": [
    "plt.bar(x=features_importances['Attribute'], height=features_importances['Importance'], color='Orange')\n",
    "plt.title('Feature importances obtained from coefficients', size=20)\n",
    "plt.xticks(rotation='vertical')\n",
    "plt.show()"
   ]
  },
  {
   "cell_type": "code",
   "execution_count": null,
   "id": "a61ffdd5",
   "metadata": {},
   "outputs": [],
   "source": []
  }
 ],
 "metadata": {
  "kernelspec": {
   "display_name": "Python 3 (ipykernel)",
   "language": "python",
   "name": "python3"
  },
  "language_info": {
   "codemirror_mode": {
    "name": "ipython",
    "version": 3
   },
   "file_extension": ".py",
   "mimetype": "text/x-python",
   "name": "python",
   "nbconvert_exporter": "python",
   "pygments_lexer": "ipython3",
   "version": "3.9.7"
  }
 },
 "nbformat": 4,
 "nbformat_minor": 5
}
